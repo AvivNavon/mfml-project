{
 "cells": [
  {
   "cell_type": "markdown",
   "metadata": {},
   "source": [
    "# MFML - Final Project\n",
    "\n",
    "### Feature importance via wavelet decomposition of RF - Reproduce the feature importance results of [1]\n",
    "\n",
    "1. Provide summary of the wavelet-based method with emphasis on the use of the validation set to\n",
    "determine a threshold for wavelet norms.\n",
    "1. Test on regression & classification problems (multi-class problems).\n",
    "1. Compare extensively with standard methods as in [1]. \n",
    "\n",
    "#### We will use the following data sets (suggestions):\n",
    "\n",
    "   - Classification\n",
    "       - \"Red Wine Quality\" as in [1]\n",
    "       - [\"Human Activity Recognition Using Smartphones Data Set \"](https://archive.ics.uci.edu/ml/datasets/human+activity+recognition+using+smartphones)\n",
    "           - Nice dataset + I have some experience with it [link](https://github.com/AvivNavon/HAR/blob/master/HAR_Notebook.ipynb), but there are 561 features, so maybe it will be hard for the wavelet decomposition code to run.\n",
    "       - [\"Abalone Data Set\"](https://archive.ics.uci.edu/ml/datasets/Abalone)\n",
    "       - [\"Seeds\"](https://archive.ics.uci.edu/ml/datasets/seeds)\n",
    "       - [Vertebral Column](https://archive.ics.uci.edu/ml/datasets/Vertebral+Column)\n",
    "   - Regression\n",
    "       - [\"Titanic\"](https://www.kaggle.com/c/titanic/data) \n",
    "           - small data set so should be quick, but mechaamem and not multi-class.\n",
    "       - [Some more boring stuff](https://archive.ics.uci.edu/ml/datasets.html?format=&task=reg&att=&area=&numAtt=less10&numIns=100to1000&type=&sort=nameUp&view=list)\n",
    "       \n",
    "#### Algs:\n",
    "\n",
    "   - RF\n",
    "   - LightGBM\n",
    "   - XGBoost\n",
    "   - ...\n",
    "   \n",
    "#### Some other things to look at\n",
    "\n",
    "   - [Shap](https://github.com/slundberg/shap)\n",
    "   \n",
    "   \n",
    "### Navigation\n",
    "\n",
    "1. [Seeds](Seeds) \n",
    "1. []()\n",
    "\n",
    "#### References\n",
    "    \n",
    "[[1]](http://www.jmlr.org/papers/volume17/15-203/15-203.pdf)  O. Elisha and S. Dekel, Wavelet decompositions of Random Forests - smoothness analysis, sparse\n",
    "approximation and applications, JMLR 17 (2016). "
   ]
  },
  {
   "cell_type": "code",
   "execution_count": 23,
   "metadata": {
    "collapsed": true
   },
   "outputs": [],
   "source": [
    "# Ignore warnings# Ignor \n",
    "import warnings\n",
    "warnings.filterwarnings(\"ignore\")"
   ]
  },
  {
   "cell_type": "code",
   "execution_count": 24,
   "metadata": {},
   "outputs": [],
   "source": [
    "import pandas as pd\n",
    "import numpy as np\n",
    "from plotnine import *"
   ]
  },
  {
   "cell_type": "markdown",
   "metadata": {
    "collapsed": true
   },
   "source": [
    "## Seeds\n",
    "\n",
    "[Top](#MFML---Final-Project)"
   ]
  },
  {
   "cell_type": "code",
   "execution_count": 27,
   "metadata": {},
   "outputs": [
    {
     "name": "stdout",
     "output_type": "stream",
     "text": [
      "(199, 8)\n"
     ]
    },
    {
     "name": "stderr",
     "output_type": "stream",
     "text": [
      "b'Skipping line 8: expected 8 fields, saw 10\\nSkipping line 36: expected 8 fields, saw 10\\nSkipping line 61: expected 8 fields, saw 9\\nSkipping line 69: expected 8 fields, saw 9\\nSkipping line 107: expected 8 fields, saw 9\\nSkipping line 136: expected 8 fields, saw 9\\nSkipping line 170: expected 8 fields, saw 9\\nSkipping line 171: expected 8 fields, saw 9\\nSkipping line 173: expected 8 fields, saw 9\\nSkipping line 202: expected 8 fields, saw 9\\nSkipping line 204: expected 8 fields, saw 9\\n'\n"
     ]
    },
    {
     "data": {
      "text/html": [
       "<div>\n",
       "<style scoped>\n",
       "    .dataframe tbody tr th:only-of-type {\n",
       "        vertical-align: middle;\n",
       "    }\n",
       "\n",
       "    .dataframe tbody tr th {\n",
       "        vertical-align: top;\n",
       "    }\n",
       "\n",
       "    .dataframe thead th {\n",
       "        text-align: right;\n",
       "    }\n",
       "</style>\n",
       "<table border=\"1\" class=\"dataframe\">\n",
       "  <thead>\n",
       "    <tr style=\"text-align: right;\">\n",
       "      <th></th>\n",
       "      <th>a</th>\n",
       "      <th>b</th>\n",
       "      <th>c</th>\n",
       "      <th>d</th>\n",
       "      <th>e</th>\n",
       "      <th>f</th>\n",
       "      <th>g</th>\n",
       "      <th>h</th>\n",
       "    </tr>\n",
       "  </thead>\n",
       "  <tbody>\n",
       "    <tr>\n",
       "      <th>0</th>\n",
       "      <td>15.26</td>\n",
       "      <td>14.84</td>\n",
       "      <td>0.8710</td>\n",
       "      <td>5.763</td>\n",
       "      <td>3.312</td>\n",
       "      <td>2.221</td>\n",
       "      <td>5.220</td>\n",
       "      <td>1</td>\n",
       "    </tr>\n",
       "    <tr>\n",
       "      <th>1</th>\n",
       "      <td>14.88</td>\n",
       "      <td>14.57</td>\n",
       "      <td>0.8811</td>\n",
       "      <td>5.554</td>\n",
       "      <td>3.333</td>\n",
       "      <td>1.018</td>\n",
       "      <td>4.956</td>\n",
       "      <td>1</td>\n",
       "    </tr>\n",
       "    <tr>\n",
       "      <th>2</th>\n",
       "      <td>14.29</td>\n",
       "      <td>14.09</td>\n",
       "      <td>0.9050</td>\n",
       "      <td>5.291</td>\n",
       "      <td>3.337</td>\n",
       "      <td>2.699</td>\n",
       "      <td>4.825</td>\n",
       "      <td>1</td>\n",
       "    </tr>\n",
       "    <tr>\n",
       "      <th>3</th>\n",
       "      <td>13.84</td>\n",
       "      <td>13.94</td>\n",
       "      <td>0.8955</td>\n",
       "      <td>5.324</td>\n",
       "      <td>3.379</td>\n",
       "      <td>2.259</td>\n",
       "      <td>4.805</td>\n",
       "      <td>1</td>\n",
       "    </tr>\n",
       "    <tr>\n",
       "      <th>4</th>\n",
       "      <td>16.14</td>\n",
       "      <td>14.99</td>\n",
       "      <td>0.9034</td>\n",
       "      <td>5.658</td>\n",
       "      <td>3.562</td>\n",
       "      <td>1.355</td>\n",
       "      <td>5.175</td>\n",
       "      <td>1</td>\n",
       "    </tr>\n",
       "  </tbody>\n",
       "</table>\n",
       "</div>"
      ],
      "text/plain": [
       "       a      b       c      d      e      f      g  h\n",
       "0  15.26  14.84  0.8710  5.763  3.312  2.221  5.220  1\n",
       "1  14.88  14.57  0.8811  5.554  3.333  1.018  4.956  1\n",
       "2  14.29  14.09  0.9050  5.291  3.337  2.699  4.825  1\n",
       "3  13.84  13.94  0.8955  5.324  3.379  2.259  4.805  1\n",
       "4  16.14  14.99  0.9034  5.658  3.562  1.355  5.175  1"
      ]
     },
     "execution_count": 27,
     "metadata": {},
     "output_type": "execute_result"
    }
   ],
   "source": [
    "seeds_dada = pd.read_csv(\"https://archive.ics.uci.edu/ml/machine-learning-databases/00236/seeds_dataset.txt\", \n",
    "            error_bad_lines = False,\n",
    "            header = None,\n",
    "            sep = \"\\t\")\n",
    "seeds_dada.columns = ['a', 'b', 'c', 'd', 'e', 'f' ,'g', 'h']\n",
    "print(seeds_dada.shape)\n",
    "seeds_dada.head()"
   ]
  },
  {
   "cell_type": "code",
   "execution_count": null,
   "metadata": {
    "collapsed": true
   },
   "outputs": [],
   "source": []
  }
 ],
 "metadata": {
  "anaconda-cloud": {},
  "kernelspec": {
   "display_name": "Python [default]",
   "language": "python",
   "name": "python3"
  },
  "language_info": {
   "codemirror_mode": {
    "name": "ipython",
    "version": 3
   },
   "file_extension": ".py",
   "mimetype": "text/x-python",
   "name": "python",
   "nbconvert_exporter": "python",
   "pygments_lexer": "ipython3",
   "version": "3.5.2"
  }
 },
 "nbformat": 4,
 "nbformat_minor": 2
}
