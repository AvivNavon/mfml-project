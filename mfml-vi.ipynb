{
 "cells": [
  {
   "cell_type": "markdown",
   "metadata": {},
   "source": [
    "# MFML - Final Project\n",
    "\n",
    "### Feature importance via wavelet decomposition of RF - Reproduce the feature importance results of [1]\n",
    "\n",
    "1. Provide summary of the wavelet-based method with emphasis on the use of the validation set to\n",
    "determine a threshold for wavelet norms.\n",
    "1. Test on regression & classification problems (multi-class problems).\n",
    "1. Compare extensively with standard methods as in [1]. \n",
    "\n",
    "#### We will use the following data sets (suggestions):\n",
    "\n",
    "   - Classification\n",
    "       - \"Red Wine Quality\" as in [1]\n",
    "       - [\"Human Activity Recognition Using Smartphones Data Set \"](https://archive.ics.uci.edu/ml/datasets/human+activity+recognition+using+smartphones)\n",
    "           - Nice dataset + I have some experience with it [link](https://github.com/AvivNavon/HAR/blob/master/HAR_Notebook.ipynb), but there are 561 features, so maybe it will be hard for the wavelet decomposition code to run.\n",
    "       - [\"Abalone Data Set\"](https://archive.ics.uci.edu/ml/datasets/Abalone)\n",
    "       - [\"Seeds\"](https://archive.ics.uci.edu/ml/datasets/seeds)\n",
    "       - [Vertebral Column](https://archive.ics.uci.edu/ml/datasets/Vertebral+Column)\n",
    "   - Regression\n",
    "       - [\"Titanic\"](https://www.kaggle.com/c/titanic/data) \n",
    "           - small data set so should be quick, but mechaamem and not multi-class.\n",
    "       - [Some more boring stuff](https://archive.ics.uci.edu/ml/datasets.html?format=&task=reg&att=&area=&numAtt=less10&numIns=100to1000&type=&sort=nameUp&view=list)\n",
    "       \n",
    "#### Algs:\n",
    "\n",
    "   - RF\n",
    "   - LightGBM\n",
    "   - XGBoost\n",
    "   - ...\n",
    "   \n",
    "#### Some other things to look at\n",
    "\n",
    "   - [Shap](https://github.com/slundberg/shap)\n",
    "   \n",
    "#### References\n",
    "    \n",
    "[[1]](http://www.jmlr.org/papers/volume17/15-203/15-203.pdf)  O. Elisha and S. Dekel, Wavelet decompositions of Random Forests - smoothness analysis, sparse\n",
    "approximation and applications, JMLR 17 (2016). "
   ]
  },
  {
   "cell_type": "code",
   "execution_count": 2,
   "metadata": {},
   "outputs": [],
   "source": [
    "import pandas as pd\n",
    "import numpy as np\n",
    "from plotnine import *"
   ]
  },
  {
   "cell_type": "code",
   "execution_count": null,
   "metadata": {
    "collapsed": true
   },
   "outputs": [],
   "source": []
  }
 ],
 "metadata": {
  "kernelspec": {
   "display_name": "Python [default]",
   "language": "python",
   "name": "python3"
  },
  "language_info": {
   "codemirror_mode": {
    "name": "ipython",
    "version": 3
   },
   "file_extension": ".py",
   "mimetype": "text/x-python",
   "name": "python",
   "nbconvert_exporter": "python",
   "pygments_lexer": "ipython3",
   "version": "3.5.2"
  }
 },
 "nbformat": 4,
 "nbformat_minor": 2
}
